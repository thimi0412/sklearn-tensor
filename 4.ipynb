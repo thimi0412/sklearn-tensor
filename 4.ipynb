{
 "cells": [
  {
   "cell_type": "markdown",
   "metadata": {},
   "source": [
    "# モデルの訓練"
   ]
  },
  {
   "cell_type": "markdown",
   "metadata": {},
   "source": [
    "## 線形回帰"
   ]
  },
  {
   "cell_type": "markdown",
   "metadata": {},
   "source": [
    "線形回帰モデルの予測\n",
    "\\begin{equation}\n",
    "\\hat{y} =\\theta_0 + \\theta_1 x_1 + ・・・ + \\theta_n x_n\n",
    "\\end{equation}\n",
    "\n",
    "- $\\hat{y} $ : 予測された値\n",
    "- n : 特徴量数\n",
    "- $x_i$ : i番目の特徴量\n",
    "- $\\theta_j$ j番目のモデルのパラメータ(バイアス項$\\theta_0$特徴量の重み$\\theta_1, \\theta_2, ・・・, \\theta_n$を含む)"
   ]
  },
  {
   "cell_type": "markdown",
   "metadata": {},
   "source": [
    "ベクトル式で表す\n",
    "\\begin{equation}\n",
    "\\hat{y} =h_\\theta(x) = \\theta^T ・x\n",
    "\\end{equation}\n",
    "\n",
    "- $\\theta$: モデルのパラメータベクトル(バイアスの項$\\theta_0, \\theta_1$から$\\theta_n$項までの特徴量の重みを含む)\n",
    "- $\\theta^T$: $\\theta$の転置\n",
    "- $x$: インスタンスの特徴量ベクトル($x_0$から$x_n$までを含む　ただし$x_0$は1)\n",
    "- $\\theta^T ・x$:  $\\theta^T$と$x$のドット積\n",
    "- $h_\\theta$: モデルパラメータ$\\theta$を使った仮説関数"
   ]
  },
  {
   "cell_type": "markdown",
   "metadata": {},
   "source": [
    "線形回帰のもっとも一般的な性能指標は`二乗平均平方根誤差(Root Mean Square Error: MSE)`である\n",
    "\n",
    "\\begin{equation}\n",
    "MSE(X, h(\\theta)) = \\frac{1}{m}\\sum_{i=1}^{m}(\\theta^T ・x - y^{(i)})^2\n",
    "\\end{equation}"
   ]
  },
  {
   "cell_type": "markdown",
   "metadata": {},
   "source": [
    "## 正規方程式"
   ]
  },
  {
   "cell_type": "markdown",
   "metadata": {},
   "source": [
    "コスト関数を最小にする$\\theta$を見つけるための閉形式解がある  \n",
    "これを正規方程式と呼ぶ"
   ]
  },
  {
   "cell_type": "markdown",
   "metadata": {},
   "source": [
    "\\begin{equation}\n",
    "\\hat{\\theta} = (X^T・X)^{-1}・X^T・y\n",
    "\\end{equation}\n",
    "\n",
    "- $\\hat{\\theta}$: コスト関数を最小にする$\\theta$\n",
    "- y: $y^{(1)}$から$y^{(m)}$までのターゲット値を格納するベクトル"
   ]
  },
  {
   "cell_type": "code",
   "execution_count": null,
   "metadata": {},
   "outputs": [],
   "source": []
  }
 ],
 "metadata": {
  "kernelspec": {
   "display_name": "Python 3",
   "language": "python",
   "name": "python3"
  },
  "language_info": {
   "codemirror_mode": {
    "name": "ipython",
    "version": 3
   },
   "file_extension": ".py",
   "mimetype": "text/x-python",
   "name": "python",
   "nbconvert_exporter": "python",
   "pygments_lexer": "ipython3",
   "version": "3.6.5"
  }
 },
 "nbformat": 4,
 "nbformat_minor": 2
}
